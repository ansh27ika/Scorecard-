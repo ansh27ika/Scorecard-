{
 "cells": [
  {
   "cell_type": "code",
   "execution_count": 1,
   "id": "a1b63744",
   "metadata": {},
   "outputs": [],
   "source": [
    "import numpy as np\n",
    "import pandas as pd"
   ]
  },
  {
   "cell_type": "code",
   "execution_count": 2,
   "id": "cab935f1",
   "metadata": {
    "scrolled": true
   },
   "outputs": [
    {
     "data": {
      "text/html": [
       "<div>\n",
       "<style scoped>\n",
       "    .dataframe tbody tr th:only-of-type {\n",
       "        vertical-align: middle;\n",
       "    }\n",
       "\n",
       "    .dataframe tbody tr th {\n",
       "        vertical-align: top;\n",
       "    }\n",
       "\n",
       "    .dataframe thead th {\n",
       "        text-align: right;\n",
       "    }\n",
       "</style>\n",
       "<table border=\"1\" class=\"dataframe\">\n",
       "  <thead>\n",
       "    <tr style=\"text-align: right;\">\n",
       "      <th></th>\n",
       "      <th>STUDENT ID</th>\n",
       "      <th>1</th>\n",
       "      <th>2</th>\n",
       "      <th>3</th>\n",
       "      <th>4</th>\n",
       "      <th>5</th>\n",
       "      <th>6</th>\n",
       "      <th>7</th>\n",
       "      <th>8</th>\n",
       "      <th>9</th>\n",
       "      <th>...</th>\n",
       "      <th>23</th>\n",
       "      <th>24</th>\n",
       "      <th>25</th>\n",
       "      <th>26</th>\n",
       "      <th>27</th>\n",
       "      <th>28</th>\n",
       "      <th>29</th>\n",
       "      <th>30</th>\n",
       "      <th>COURSE ID</th>\n",
       "      <th>GRADE</th>\n",
       "    </tr>\n",
       "  </thead>\n",
       "  <tbody>\n",
       "    <tr>\n",
       "      <th>0</th>\n",
       "      <td>STUDENT1</td>\n",
       "      <td>2</td>\n",
       "      <td>2</td>\n",
       "      <td>3</td>\n",
       "      <td>3</td>\n",
       "      <td>1</td>\n",
       "      <td>2</td>\n",
       "      <td>2</td>\n",
       "      <td>1</td>\n",
       "      <td>1</td>\n",
       "      <td>...</td>\n",
       "      <td>1</td>\n",
       "      <td>1</td>\n",
       "      <td>3</td>\n",
       "      <td>2</td>\n",
       "      <td>1</td>\n",
       "      <td>2</td>\n",
       "      <td>1</td>\n",
       "      <td>1</td>\n",
       "      <td>1</td>\n",
       "      <td>1</td>\n",
       "    </tr>\n",
       "    <tr>\n",
       "      <th>1</th>\n",
       "      <td>STUDENT2</td>\n",
       "      <td>2</td>\n",
       "      <td>2</td>\n",
       "      <td>3</td>\n",
       "      <td>3</td>\n",
       "      <td>1</td>\n",
       "      <td>2</td>\n",
       "      <td>2</td>\n",
       "      <td>1</td>\n",
       "      <td>1</td>\n",
       "      <td>...</td>\n",
       "      <td>1</td>\n",
       "      <td>1</td>\n",
       "      <td>3</td>\n",
       "      <td>2</td>\n",
       "      <td>3</td>\n",
       "      <td>2</td>\n",
       "      <td>2</td>\n",
       "      <td>3</td>\n",
       "      <td>1</td>\n",
       "      <td>1</td>\n",
       "    </tr>\n",
       "    <tr>\n",
       "      <th>2</th>\n",
       "      <td>STUDENT3</td>\n",
       "      <td>2</td>\n",
       "      <td>2</td>\n",
       "      <td>2</td>\n",
       "      <td>3</td>\n",
       "      <td>2</td>\n",
       "      <td>2</td>\n",
       "      <td>2</td>\n",
       "      <td>2</td>\n",
       "      <td>4</td>\n",
       "      <td>...</td>\n",
       "      <td>1</td>\n",
       "      <td>1</td>\n",
       "      <td>2</td>\n",
       "      <td>2</td>\n",
       "      <td>1</td>\n",
       "      <td>1</td>\n",
       "      <td>2</td>\n",
       "      <td>2</td>\n",
       "      <td>1</td>\n",
       "      <td>1</td>\n",
       "    </tr>\n",
       "    <tr>\n",
       "      <th>3</th>\n",
       "      <td>STUDENT4</td>\n",
       "      <td>1</td>\n",
       "      <td>1</td>\n",
       "      <td>1</td>\n",
       "      <td>3</td>\n",
       "      <td>1</td>\n",
       "      <td>2</td>\n",
       "      <td>1</td>\n",
       "      <td>2</td>\n",
       "      <td>1</td>\n",
       "      <td>...</td>\n",
       "      <td>1</td>\n",
       "      <td>2</td>\n",
       "      <td>3</td>\n",
       "      <td>2</td>\n",
       "      <td>2</td>\n",
       "      <td>1</td>\n",
       "      <td>3</td>\n",
       "      <td>2</td>\n",
       "      <td>1</td>\n",
       "      <td>1</td>\n",
       "    </tr>\n",
       "    <tr>\n",
       "      <th>4</th>\n",
       "      <td>STUDENT5</td>\n",
       "      <td>2</td>\n",
       "      <td>2</td>\n",
       "      <td>1</td>\n",
       "      <td>3</td>\n",
       "      <td>2</td>\n",
       "      <td>2</td>\n",
       "      <td>1</td>\n",
       "      <td>3</td>\n",
       "      <td>1</td>\n",
       "      <td>...</td>\n",
       "      <td>2</td>\n",
       "      <td>1</td>\n",
       "      <td>2</td>\n",
       "      <td>2</td>\n",
       "      <td>2</td>\n",
       "      <td>1</td>\n",
       "      <td>2</td>\n",
       "      <td>2</td>\n",
       "      <td>1</td>\n",
       "      <td>1</td>\n",
       "    </tr>\n",
       "  </tbody>\n",
       "</table>\n",
       "<p>5 rows × 33 columns</p>\n",
       "</div>"
      ],
      "text/plain": [
       "  STUDENT ID  1  2  3  4  5  6  7  8  9  ...  23  24  25  26  27  28  29  30  \\\n",
       "0   STUDENT1  2  2  3  3  1  2  2  1  1  ...   1   1   3   2   1   2   1   1   \n",
       "1   STUDENT2  2  2  3  3  1  2  2  1  1  ...   1   1   3   2   3   2   2   3   \n",
       "2   STUDENT3  2  2  2  3  2  2  2  2  4  ...   1   1   2   2   1   1   2   2   \n",
       "3   STUDENT4  1  1  1  3  1  2  1  2  1  ...   1   2   3   2   2   1   3   2   \n",
       "4   STUDENT5  2  2  1  3  2  2  1  3  1  ...   2   1   2   2   2   1   2   2   \n",
       "\n",
       "   COURSE ID  GRADE  \n",
       "0          1      1  \n",
       "1          1      1  \n",
       "2          1      1  \n",
       "3          1      1  \n",
       "4          1      1  \n",
       "\n",
       "[5 rows x 33 columns]"
      ]
     },
     "execution_count": 2,
     "metadata": {},
     "output_type": "execute_result"
    }
   ],
   "source": [
    "df = pd.read_csv('Scorecard Dataset.csv')\n",
    "df.head()"
   ]
  },
  {
   "cell_type": "code",
   "execution_count": 3,
   "id": "799def6f",
   "metadata": {},
   "outputs": [],
   "source": [
    "df.drop(['STUDENT ID'], axis = 1, inplace = True)"
   ]
  },
  {
   "cell_type": "code",
   "execution_count": 4,
   "id": "ebb6382f",
   "metadata": {},
   "outputs": [],
   "source": [
    "df.rename(columns = {'1':'Student Age', '2':'Gender', '3':'High School Type', '4':'Scholarship','5':'Additional Work', '6':'Artistic or Sports Activity', '7':'Marital Status', '8':'Salary', '9':'Transportation', '10':'Accommodation', '11':\"Mother's Education\" , '12':\"Father's Education\", '13':'No. of Siblings', '14':'Parental Status', '15':\"Mother's Occupation\", '16':\"Father's Occupation\", '17':'Weekly Study Hours', '18':'Reading Frequency (Non - Scientific)', '19':'Reading Frequency (Scientific)', '20':'Attendance to Seminars/Conferences', '21':'Impact of Projects/Activities', '22':'Attendance to Classes', '23':'How do you prepare for exam?', '24':'When do you prepare for exam?','25':'Taking Notes', '26':'Listening', '27':'Improvement due to Discussion', '28':'Flip-Classroom', '29':'Cumulative GPA Last Semester', '30':'Expected GPA This Semester', 'GRADE':'Grade', 'COURSE ID':'Course ID'}, inplace = True)"
   ]
  },
  {
   "cell_type": "code",
   "execution_count": 5,
   "id": "ccbc4fd6",
   "metadata": {
    "scrolled": true
   },
   "outputs": [
    {
     "data": {
      "text/plain": [
       "Index(['Student Age', 'Gender', 'High School Type', 'Scholarship',\n",
       "       'Additional Work', 'Artistic or Sports Activity', 'Marital Status',\n",
       "       'Salary', 'Transportation', 'Accommodation', 'Mother's Education',\n",
       "       'Father's Education', 'No. of Siblings', 'Parental Status',\n",
       "       'Mother's Occupation', 'Father's Occupation', 'Weekly Study Hours',\n",
       "       'Reading Frequency (Non - Scientific)',\n",
       "       'Reading Frequency (Scientific)', 'Attendance to Seminars/Conferences',\n",
       "       'Impact of Projects/Activities', 'Attendance to Classes',\n",
       "       'How do you prepare for exam?', 'When do you prepare for exam?',\n",
       "       'Taking Notes', 'Listening', 'Improvement due to Discussion',\n",
       "       'Flip-Classroom', 'Cumulative GPA Last Semester',\n",
       "       'Expected GPA This Semester', 'Course ID', 'Grade'],\n",
       "      dtype='object')"
      ]
     },
     "execution_count": 5,
     "metadata": {},
     "output_type": "execute_result"
    }
   ],
   "source": [
    "df.columns"
   ]
  },
  {
   "cell_type": "code",
   "execution_count": 6,
   "id": "66b0972c",
   "metadata": {},
   "outputs": [
    {
     "data": {
      "text/html": [
       "<div>\n",
       "<style scoped>\n",
       "    .dataframe tbody tr th:only-of-type {\n",
       "        vertical-align: middle;\n",
       "    }\n",
       "\n",
       "    .dataframe tbody tr th {\n",
       "        vertical-align: top;\n",
       "    }\n",
       "\n",
       "    .dataframe thead th {\n",
       "        text-align: right;\n",
       "    }\n",
       "</style>\n",
       "<table border=\"1\" class=\"dataframe\">\n",
       "  <thead>\n",
       "    <tr style=\"text-align: right;\">\n",
       "      <th></th>\n",
       "      <th>Student Age</th>\n",
       "      <th>Gender</th>\n",
       "      <th>High School Type</th>\n",
       "      <th>Scholarship</th>\n",
       "      <th>Additional Work</th>\n",
       "      <th>Artistic or Sports Activity</th>\n",
       "      <th>Marital Status</th>\n",
       "      <th>Salary</th>\n",
       "      <th>Transportation</th>\n",
       "      <th>Accommodation</th>\n",
       "      <th>...</th>\n",
       "      <th>How do you prepare for exam?</th>\n",
       "      <th>When do you prepare for exam?</th>\n",
       "      <th>Taking Notes</th>\n",
       "      <th>Listening</th>\n",
       "      <th>Improvement due to Discussion</th>\n",
       "      <th>Flip-Classroom</th>\n",
       "      <th>Cumulative GPA Last Semester</th>\n",
       "      <th>Expected GPA This Semester</th>\n",
       "      <th>Course ID</th>\n",
       "      <th>Grade</th>\n",
       "    </tr>\n",
       "  </thead>\n",
       "  <tbody>\n",
       "    <tr>\n",
       "      <th>0</th>\n",
       "      <td>2</td>\n",
       "      <td>2</td>\n",
       "      <td>3</td>\n",
       "      <td>3</td>\n",
       "      <td>1</td>\n",
       "      <td>2</td>\n",
       "      <td>2</td>\n",
       "      <td>1</td>\n",
       "      <td>1</td>\n",
       "      <td>1</td>\n",
       "      <td>...</td>\n",
       "      <td>1</td>\n",
       "      <td>1</td>\n",
       "      <td>3</td>\n",
       "      <td>2</td>\n",
       "      <td>1</td>\n",
       "      <td>2</td>\n",
       "      <td>1</td>\n",
       "      <td>1</td>\n",
       "      <td>1</td>\n",
       "      <td>1</td>\n",
       "    </tr>\n",
       "    <tr>\n",
       "      <th>1</th>\n",
       "      <td>2</td>\n",
       "      <td>2</td>\n",
       "      <td>3</td>\n",
       "      <td>3</td>\n",
       "      <td>1</td>\n",
       "      <td>2</td>\n",
       "      <td>2</td>\n",
       "      <td>1</td>\n",
       "      <td>1</td>\n",
       "      <td>1</td>\n",
       "      <td>...</td>\n",
       "      <td>1</td>\n",
       "      <td>1</td>\n",
       "      <td>3</td>\n",
       "      <td>2</td>\n",
       "      <td>3</td>\n",
       "      <td>2</td>\n",
       "      <td>2</td>\n",
       "      <td>3</td>\n",
       "      <td>1</td>\n",
       "      <td>1</td>\n",
       "    </tr>\n",
       "    <tr>\n",
       "      <th>2</th>\n",
       "      <td>2</td>\n",
       "      <td>2</td>\n",
       "      <td>2</td>\n",
       "      <td>3</td>\n",
       "      <td>2</td>\n",
       "      <td>2</td>\n",
       "      <td>2</td>\n",
       "      <td>2</td>\n",
       "      <td>4</td>\n",
       "      <td>2</td>\n",
       "      <td>...</td>\n",
       "      <td>1</td>\n",
       "      <td>1</td>\n",
       "      <td>2</td>\n",
       "      <td>2</td>\n",
       "      <td>1</td>\n",
       "      <td>1</td>\n",
       "      <td>2</td>\n",
       "      <td>2</td>\n",
       "      <td>1</td>\n",
       "      <td>1</td>\n",
       "    </tr>\n",
       "    <tr>\n",
       "      <th>3</th>\n",
       "      <td>1</td>\n",
       "      <td>1</td>\n",
       "      <td>1</td>\n",
       "      <td>3</td>\n",
       "      <td>1</td>\n",
       "      <td>2</td>\n",
       "      <td>1</td>\n",
       "      <td>2</td>\n",
       "      <td>1</td>\n",
       "      <td>2</td>\n",
       "      <td>...</td>\n",
       "      <td>1</td>\n",
       "      <td>2</td>\n",
       "      <td>3</td>\n",
       "      <td>2</td>\n",
       "      <td>2</td>\n",
       "      <td>1</td>\n",
       "      <td>3</td>\n",
       "      <td>2</td>\n",
       "      <td>1</td>\n",
       "      <td>1</td>\n",
       "    </tr>\n",
       "    <tr>\n",
       "      <th>4</th>\n",
       "      <td>2</td>\n",
       "      <td>2</td>\n",
       "      <td>1</td>\n",
       "      <td>3</td>\n",
       "      <td>2</td>\n",
       "      <td>2</td>\n",
       "      <td>1</td>\n",
       "      <td>3</td>\n",
       "      <td>1</td>\n",
       "      <td>4</td>\n",
       "      <td>...</td>\n",
       "      <td>2</td>\n",
       "      <td>1</td>\n",
       "      <td>2</td>\n",
       "      <td>2</td>\n",
       "      <td>2</td>\n",
       "      <td>1</td>\n",
       "      <td>2</td>\n",
       "      <td>2</td>\n",
       "      <td>1</td>\n",
       "      <td>1</td>\n",
       "    </tr>\n",
       "  </tbody>\n",
       "</table>\n",
       "<p>5 rows × 32 columns</p>\n",
       "</div>"
      ],
      "text/plain": [
       "   Student Age  Gender  High School Type  Scholarship  Additional Work  \\\n",
       "0            2       2                 3            3                1   \n",
       "1            2       2                 3            3                1   \n",
       "2            2       2                 2            3                2   \n",
       "3            1       1                 1            3                1   \n",
       "4            2       2                 1            3                2   \n",
       "\n",
       "   Artistic or Sports Activity  Marital Status  Salary  Transportation  \\\n",
       "0                            2               2       1               1   \n",
       "1                            2               2       1               1   \n",
       "2                            2               2       2               4   \n",
       "3                            2               1       2               1   \n",
       "4                            2               1       3               1   \n",
       "\n",
       "   Accommodation  ...  How do you prepare for exam?  \\\n",
       "0              1  ...                             1   \n",
       "1              1  ...                             1   \n",
       "2              2  ...                             1   \n",
       "3              2  ...                             1   \n",
       "4              4  ...                             2   \n",
       "\n",
       "   When do you prepare for exam?  Taking Notes  Listening  \\\n",
       "0                              1             3          2   \n",
       "1                              1             3          2   \n",
       "2                              1             2          2   \n",
       "3                              2             3          2   \n",
       "4                              1             2          2   \n",
       "\n",
       "   Improvement due to Discussion  Flip-Classroom  \\\n",
       "0                              1               2   \n",
       "1                              3               2   \n",
       "2                              1               1   \n",
       "3                              2               1   \n",
       "4                              2               1   \n",
       "\n",
       "   Cumulative GPA Last Semester  Expected GPA This Semester  Course ID  Grade  \n",
       "0                             1                           1          1      1  \n",
       "1                             2                           3          1      1  \n",
       "2                             2                           2          1      1  \n",
       "3                             3                           2          1      1  \n",
       "4                             2                           2          1      1  \n",
       "\n",
       "[5 rows x 32 columns]"
      ]
     },
     "execution_count": 6,
     "metadata": {},
     "output_type": "execute_result"
    }
   ],
   "source": [
    "df.head()"
   ]
  },
  {
   "cell_type": "code",
   "execution_count": 7,
   "id": "af42b961",
   "metadata": {},
   "outputs": [],
   "source": [
    "df['Student Age'] = df['Student Age'].replace(1,'18-21')\n",
    "df['Student Age'] = df['Student Age'].replace(2,'22-25')\n",
    "df['Student Age'] = df['Student Age'].replace(3,'above 26')"
   ]
  },
  {
   "cell_type": "code",
   "execution_count": 8,
   "id": "5638f280",
   "metadata": {},
   "outputs": [
    {
     "data": {
      "text/plain": [
       "array(['22-25', '18-21', 'above 26'], dtype=object)"
      ]
     },
     "execution_count": 8,
     "metadata": {},
     "output_type": "execute_result"
    }
   ],
   "source": [
    "df['Student Age'].unique()"
   ]
  },
  {
   "cell_type": "code",
   "execution_count": 9,
   "id": "a9a61ec5",
   "metadata": {},
   "outputs": [],
   "source": [
    "df['Gender'] = df['Gender'].replace(1, 'Female')\n",
    "df['Gender'] = df['Gender'].replace(2, 'Male')"
   ]
  },
  {
   "cell_type": "code",
   "execution_count": 10,
   "id": "95a2d922",
   "metadata": {},
   "outputs": [
    {
     "data": {
      "text/plain": [
       "array(['Male', 'Female'], dtype=object)"
      ]
     },
     "execution_count": 10,
     "metadata": {},
     "output_type": "execute_result"
    }
   ],
   "source": [
    "df['Gender'].unique()"
   ]
  },
  {
   "cell_type": "code",
   "execution_count": 11,
   "id": "355f4f97",
   "metadata": {},
   "outputs": [],
   "source": [
    "df['High School Type'] = df['High School Type'].replace(1, 'Private')\n",
    "df['High School Type'] = df['High School Type'].replace(2, 'State')\n",
    "df['High School Type'] = df['High School Type'].replace(3, 'Other')"
   ]
  },
  {
   "cell_type": "code",
   "execution_count": 12,
   "id": "313d02d8",
   "metadata": {},
   "outputs": [
    {
     "data": {
      "text/plain": [
       "array(['Other', 'State', 'Private'], dtype=object)"
      ]
     },
     "execution_count": 12,
     "metadata": {},
     "output_type": "execute_result"
    }
   ],
   "source": [
    "df['High School Type'].unique()"
   ]
  },
  {
   "cell_type": "code",
   "execution_count": 13,
   "id": "1a36c8cc",
   "metadata": {},
   "outputs": [],
   "source": [
    "df['Scholarship'] = df['Scholarship'].replace(1, 'None')\n",
    "df['Scholarship'] = df['Scholarship'].replace(2, '25%')\n",
    "df['Scholarship'] = df['Scholarship'].replace(3, '50%')\n",
    "df['Scholarship'] = df['Scholarship'].replace(4, '75%')\n",
    "df['Scholarship'] = df['Scholarship'].replace(5, 'Full')"
   ]
  },
  {
   "cell_type": "code",
   "execution_count": 14,
   "id": "c27f0857",
   "metadata": {},
   "outputs": [
    {
     "data": {
      "text/plain": [
       "array(['50%', '75%', 'Full', '25%', 'None'], dtype=object)"
      ]
     },
     "execution_count": 14,
     "metadata": {},
     "output_type": "execute_result"
    }
   ],
   "source": [
    "df['Scholarship'].unique()"
   ]
  },
  {
   "cell_type": "code",
   "execution_count": 15,
   "id": "78c00ec2",
   "metadata": {},
   "outputs": [],
   "source": [
    "df['Additional Work'] = df['Additional Work'].replace(1, 'Yes')\n",
    "df['Additional Work'] = df['Additional Work'].replace(2, 'No')"
   ]
  },
  {
   "cell_type": "code",
   "execution_count": 16,
   "id": "7bc94511",
   "metadata": {},
   "outputs": [
    {
     "data": {
      "text/plain": [
       "array(['Yes', 'No'], dtype=object)"
      ]
     },
     "execution_count": 16,
     "metadata": {},
     "output_type": "execute_result"
    }
   ],
   "source": [
    "df['Additional Work'].unique()"
   ]
  },
  {
   "cell_type": "code",
   "execution_count": 17,
   "id": "db813631",
   "metadata": {},
   "outputs": [],
   "source": [
    "df['Artistic or Sports Activity'] = df['Artistic or Sports Activity'].replace(1,'Yes')\n",
    "df['Artistic or Sports Activity'] = df['Artistic or Sports Activity'].replace(2,'No')"
   ]
  },
  {
   "cell_type": "code",
   "execution_count": 18,
   "id": "cf1d5a80",
   "metadata": {},
   "outputs": [
    {
     "data": {
      "text/plain": [
       "array(['No', 'Yes'], dtype=object)"
      ]
     },
     "execution_count": 18,
     "metadata": {},
     "output_type": "execute_result"
    }
   ],
   "source": [
    "df['Artistic or Sports Activity'].unique()"
   ]
  },
  {
   "cell_type": "code",
   "execution_count": 19,
   "id": "fdb90b5b",
   "metadata": {},
   "outputs": [],
   "source": [
    "df['Marital Status'] = df['Marital Status'].replace(1, 'Yes')\n",
    "df['Marital Status'] = df['Marital Status'].replace(2, 'No')"
   ]
  },
  {
   "cell_type": "code",
   "execution_count": 20,
   "id": "16bb3f1a",
   "metadata": {},
   "outputs": [
    {
     "data": {
      "text/plain": [
       "array(['No', 'Yes'], dtype=object)"
      ]
     },
     "execution_count": 20,
     "metadata": {},
     "output_type": "execute_result"
    }
   ],
   "source": [
    "df['Marital Status'].unique()"
   ]
  },
  {
   "cell_type": "code",
   "execution_count": 21,
   "id": "049efae3",
   "metadata": {},
   "outputs": [],
   "source": [
    "df['Salary'] = df['Salary'].replace(1, 'USD 135-200')\n",
    "df['Salary'] = df['Salary'].replace(2, 'USD 201-270')\n",
    "df['Salary'] = df['Salary'].replace(3, 'USD 271-340')\n",
    "df['Salary'] = df['Salary'].replace(4, 'USD 341-410')\n",
    "df['Salary'] = df['Salary'].replace(5, 'USD above 410')"
   ]
  },
  {
   "cell_type": "code",
   "execution_count": 22,
   "id": "24ce030b",
   "metadata": {},
   "outputs": [
    {
     "data": {
      "text/plain": [
       "array(['USD 135-200', 'USD 201-270', 'USD 271-340', 'USD 341-410',\n",
       "       'USD above 410'], dtype=object)"
      ]
     },
     "execution_count": 22,
     "metadata": {},
     "output_type": "execute_result"
    }
   ],
   "source": [
    "df['Salary'].unique()"
   ]
  },
  {
   "cell_type": "code",
   "execution_count": 23,
   "id": "5965b6c4",
   "metadata": {},
   "outputs": [
    {
     "data": {
      "text/plain": [
       "array([1, 4, 2, 3], dtype=int64)"
      ]
     },
     "execution_count": 23,
     "metadata": {},
     "output_type": "execute_result"
    }
   ],
   "source": [
    "df['Transportation'].unique()"
   ]
  },
  {
   "cell_type": "code",
   "execution_count": 24,
   "id": "250d5728",
   "metadata": {},
   "outputs": [],
   "source": [
    "df['Transportation'] = df['Transportation'].replace(1, 'Bus')\n",
    "df['Transportation'] = df['Transportation'].replace(2, 'Private Car/Taxi')\n",
    "df['Transportation'] = df['Transportation'].replace(3, 'Bicycle')\n",
    "df['Transportation'] = df['Transportation'].replace(4, 'Other')"
   ]
  },
  {
   "cell_type": "code",
   "execution_count": 25,
   "id": "707d0fd8",
   "metadata": {},
   "outputs": [
    {
     "data": {
      "text/plain": [
       "array([1, 2, 4, 3], dtype=int64)"
      ]
     },
     "execution_count": 25,
     "metadata": {},
     "output_type": "execute_result"
    }
   ],
   "source": [
    "df['Accommodation'].unique()"
   ]
  },
  {
   "cell_type": "code",
   "execution_count": 26,
   "id": "e6957530",
   "metadata": {},
   "outputs": [],
   "source": [
    "df['Accommodation'] = df['Accommodation'].replace(1, 'Rental')\n",
    "df['Accommodation'] = df['Accommodation'].replace(2, 'Dormitory')\n",
    "df['Accommodation'] = df['Accommodation'].replace(3, 'With Family')\n",
    "df['Accommodation'] = df['Accommodation'].replace(4, 'Other')"
   ]
  },
  {
   "cell_type": "code",
   "execution_count": 27,
   "id": "d9a91e1b",
   "metadata": {},
   "outputs": [
    {
     "data": {
      "text/plain": [
       "array([1, 2, 3, 4, 5, 6], dtype=int64)"
      ]
     },
     "execution_count": 27,
     "metadata": {},
     "output_type": "execute_result"
    }
   ],
   "source": [
    "df[\"Mother\\'s Education\"].unique()"
   ]
  },
  {
   "cell_type": "code",
   "execution_count": 28,
   "id": "09981c0b",
   "metadata": {},
   "outputs": [],
   "source": [
    "df[\"Mother\\'s Education\"] = df[\"Mother\\'s Education\"].replace(1, 'Primary School')\n",
    "df[\"Mother\\'s Education\"] = df[\"Mother\\'s Education\"].replace(2, 'Secondary School')\n",
    "df[\"Mother\\'s Education\"] = df[\"Mother\\'s Education\"].replace(3, 'High School')\n",
    "df[\"Mother\\'s Education\"] = df[\"Mother\\'s Education\"].replace(4, 'University')\n",
    "df[\"Mother\\'s Education\"] = df[\"Mother\\'s Education\"].replace(5, 'M.Sc.')\n",
    "df[\"Mother\\'s Education\"] = df[\"Mother\\'s Education\"].replace(6, 'Ph.D')"
   ]
  },
  {
   "cell_type": "code",
   "execution_count": 29,
   "id": "486334f6",
   "metadata": {},
   "outputs": [
    {
     "data": {
      "text/plain": [
       "array([2, 3, 4, 5, 1, 6], dtype=int64)"
      ]
     },
     "execution_count": 29,
     "metadata": {},
     "output_type": "execute_result"
    }
   ],
   "source": [
    "df[\"Father\\'s Education\"].unique()"
   ]
  },
  {
   "cell_type": "code",
   "execution_count": 30,
   "id": "0b4cb2c7",
   "metadata": {},
   "outputs": [],
   "source": [
    "df[\"Father\\'s Education\"] = df[\"Father\\'s Education\"].replace(1, 'Primary School')\n",
    "df[\"Father\\'s Education\"] = df[\"Father\\'s Education\"].replace(2, 'Secondary School')\n",
    "df[\"Father\\'s Education\"] = df[\"Father\\'s Education\"].replace(3, 'High School')\n",
    "df[\"Father\\'s Education\"] = df[\"Father\\'s Education\"].replace(4, 'University')\n",
    "df[\"Father\\'s Education\"] = df[\"Father\\'s Education\"].replace(5, 'M.Sc.')\n",
    "df[\"Father\\'s Education\"] = df[\"Father\\'s Education\"].replace(6, 'Ph.D')"
   ]
  },
  {
   "cell_type": "code",
   "execution_count": 31,
   "id": "a3303338",
   "metadata": {},
   "outputs": [
    {
     "data": {
      "text/plain": [
       "array([3, 2, 5, 1, 4], dtype=int64)"
      ]
     },
     "execution_count": 31,
     "metadata": {},
     "output_type": "execute_result"
    }
   ],
   "source": [
    "df['No. of Siblings'].unique()"
   ]
  },
  {
   "cell_type": "code",
   "execution_count": 32,
   "id": "cc61a75a",
   "metadata": {},
   "outputs": [],
   "source": [
    "df['No. of Siblings'] = df['No. of Siblings'].replace(1, '1')\n",
    "df['No. of Siblings'] = df['No. of Siblings'].replace(2, '2')\n",
    "df['No. of Siblings'] = df['No. of Siblings'].replace(3, '3')\n",
    "df['No. of Siblings'] = df['No. of Siblings'].replace(4, '4')\n",
    "df['No. of Siblings'] = df['No. of Siblings'].replace(5, '5 or above')"
   ]
  },
  {
   "cell_type": "code",
   "execution_count": 33,
   "id": "7d86aa9d",
   "metadata": {},
   "outputs": [
    {
     "data": {
      "text/plain": [
       "array([1, 2, 3], dtype=int64)"
      ]
     },
     "execution_count": 33,
     "metadata": {},
     "output_type": "execute_result"
    }
   ],
   "source": [
    "df['Parental Status'].unique()"
   ]
  },
  {
   "cell_type": "code",
   "execution_count": 34,
   "id": "ada5cce3",
   "metadata": {},
   "outputs": [],
   "source": [
    "df['Parental Status'] = df['Parental Status'].replace(1, 'Married')\n",
    "df['Parental Status'] = df['Parental Status'].replace(2, 'Divorced')\n",
    "df['Parental Status'] = df['Parental Status'].replace(3, 'Died - One of Them or Both')"
   ]
  },
  {
   "cell_type": "code",
   "execution_count": 35,
   "id": "2ac73ce8",
   "metadata": {},
   "outputs": [
    {
     "data": {
      "text/plain": [
       "array([2, 4, 3, 5, 1], dtype=int64)"
      ]
     },
     "execution_count": 35,
     "metadata": {},
     "output_type": "execute_result"
    }
   ],
   "source": [
    "df[\"Mother\\'s Occupation\"].unique()"
   ]
  },
  {
   "cell_type": "code",
   "execution_count": 36,
   "id": "ed4fb99b",
   "metadata": {},
   "outputs": [],
   "source": [
    "df[\"Mother\\'s Occupation\"] = df[\"Mother\\'s Occupation\"].replace(1, 'Retired')\n",
    "df[\"Mother\\'s Occupation\"] = df[\"Mother\\'s Occupation\"].replace(2, 'Housewife')\n",
    "df[\"Mother\\'s Occupation\"] = df[\"Mother\\'s Occupation\"].replace(3, 'Govt. Officer')\n",
    "df[\"Mother\\'s Occupation\"] = df[\"Mother\\'s Occupation\"].replace(4, 'Private Sector Officer')\n",
    "df[\"Mother\\'s Occupation\"] = df[\"Mother\\'s Occupation\"].replace(5, 'Self Employed')"
   ]
  },
  {
   "cell_type": "code",
   "execution_count": 37,
   "id": "9d8a4d36",
   "metadata": {},
   "outputs": [
    {
     "data": {
      "text/plain": [
       "array([5, 1, 4, 3, 2], dtype=int64)"
      ]
     },
     "execution_count": 37,
     "metadata": {},
     "output_type": "execute_result"
    }
   ],
   "source": [
    "df[\"Father\\'s Occupation\"].unique()"
   ]
  },
  {
   "cell_type": "code",
   "execution_count": 38,
   "id": "a9458d5a",
   "metadata": {},
   "outputs": [],
   "source": [
    "df[\"Father\\'s Occupation\"] = df[\"Father\\'s Occupation\"].replace(1, 'Retired')\n",
    "df[\"Father\\'s Occupation\"] = df[\"Father\\'s Occupation\"].replace(2, 'Govt. Officer')\n",
    "df[\"Father\\'s Occupation\"] = df[\"Father\\'s Occupation\"].replace(3, 'Private Sector Officer')\n",
    "df[\"Father\\'s Occupation\"] = df[\"Father\\'s Occupation\"].replace(4, 'Self Employed')\n",
    "df[\"Father\\'s Occupation\"] = df[\"Father\\'s Occupation\"].replace(5, 'Other')"
   ]
  },
  {
   "cell_type": "code",
   "execution_count": 39,
   "id": "14e29998",
   "metadata": {},
   "outputs": [
    {
     "data": {
      "text/plain": [
       "array([3, 2, 1, 5, 4], dtype=int64)"
      ]
     },
     "execution_count": 39,
     "metadata": {},
     "output_type": "execute_result"
    }
   ],
   "source": [
    "df['Weekly Study Hours'].unique()"
   ]
  },
  {
   "cell_type": "code",
   "execution_count": 40,
   "id": "9cd9bbae",
   "metadata": {},
   "outputs": [],
   "source": [
    "df['Weekly Study Hours'] = df['Weekly Study Hours'].replace(1, 'None')\n",
    "df['Weekly Study Hours'] = df['Weekly Study Hours'].replace(2, '<5 Hours')\n",
    "df['Weekly Study Hours'] = df['Weekly Study Hours'].replace(3, '6-10 Hours')\n",
    "df['Weekly Study Hours'] = df['Weekly Study Hours'].replace(4, '11-20 Hours')\n",
    "df['Weekly Study Hours'] = df['Weekly Study Hours'].replace(5, 'More than 20 Hours')"
   ]
  },
  {
   "cell_type": "code",
   "execution_count": 41,
   "id": "758943dc",
   "metadata": {},
   "outputs": [
    {
     "data": {
      "text/plain": [
       "array([2, 1, 3], dtype=int64)"
      ]
     },
     "execution_count": 41,
     "metadata": {},
     "output_type": "execute_result"
    }
   ],
   "source": [
    "df['Reading Frequency (Non - Scientific)'].unique()"
   ]
  },
  {
   "cell_type": "code",
   "execution_count": 42,
   "id": "a33f11ba",
   "metadata": {},
   "outputs": [],
   "source": [
    "df['Reading Frequency (Non - Scientific)'] = df['Reading Frequency (Non - Scientific)'].replace(1, 'None')\n",
    "df['Reading Frequency (Non - Scientific)'] = df['Reading Frequency (Non - Scientific)'].replace(2, 'Sometimes')\n",
    "df['Reading Frequency (Non - Scientific)'] = df['Reading Frequency (Non - Scientific)'].replace(3, 'Often')"
   ]
  },
  {
   "cell_type": "code",
   "execution_count": 43,
   "id": "65d1d0bd",
   "metadata": {},
   "outputs": [
    {
     "data": {
      "text/plain": [
       "array([2, 1, 3], dtype=int64)"
      ]
     },
     "execution_count": 43,
     "metadata": {},
     "output_type": "execute_result"
    }
   ],
   "source": [
    "df['Reading Frequency (Scientific)'].unique()"
   ]
  },
  {
   "cell_type": "code",
   "execution_count": 44,
   "id": "6153a3fd",
   "metadata": {},
   "outputs": [],
   "source": [
    "df['Reading Frequency (Scientific)'] = df['Reading Frequency (Scientific)'].replace(1, 'None')\n",
    "df['Reading Frequency (Scientific)'] = df['Reading Frequency (Scientific)'].replace(2, 'Sometimes')\n",
    "df['Reading Frequency (Scientific)'] = df['Reading Frequency (Scientific)'].replace(3, 'Often')"
   ]
  },
  {
   "cell_type": "code",
   "execution_count": 45,
   "id": "269255c7",
   "metadata": {},
   "outputs": [
    {
     "data": {
      "text/plain": [
       "array([1, 2], dtype=int64)"
      ]
     },
     "execution_count": 45,
     "metadata": {},
     "output_type": "execute_result"
    }
   ],
   "source": [
    "df['Attendance to Seminars/Conferences'].unique()"
   ]
  },
  {
   "cell_type": "code",
   "execution_count": 46,
   "id": "f59c238a",
   "metadata": {},
   "outputs": [],
   "source": [
    "df['Attendance to Seminars/Conferences'] = df['Attendance to Seminars/Conferences'].replace(1, 'Yes')\n",
    "df['Attendance to Seminars/Conferences'] = df['Attendance to Seminars/Conferences'].replace(2, 'No')"
   ]
  },
  {
   "cell_type": "code",
   "execution_count": 47,
   "id": "bb15820f",
   "metadata": {},
   "outputs": [
    {
     "data": {
      "text/plain": [
       "array([1, 3, 2], dtype=int64)"
      ]
     },
     "execution_count": 47,
     "metadata": {},
     "output_type": "execute_result"
    }
   ],
   "source": [
    "df['Impact of Projects/Activities'].unique()"
   ]
  },
  {
   "cell_type": "code",
   "execution_count": 48,
   "id": "a914984b",
   "metadata": {},
   "outputs": [],
   "source": [
    "df['Impact of Projects/Activities'] = df['Impact of Projects/Activities'].replace(1, 'Positive')\n",
    "df['Impact of Projects/Activities'] = df['Impact of Projects/Activities'].replace(2, 'Negative')\n",
    "df['Impact of Projects/Activities'] = df['Impact of Projects/Activities'].replace(3, 'Neutral')"
   ]
  },
  {
   "cell_type": "code",
   "execution_count": 49,
   "id": "a389562f",
   "metadata": {},
   "outputs": [
    {
     "data": {
      "text/plain": [
       "array([1, 2], dtype=int64)"
      ]
     },
     "execution_count": 49,
     "metadata": {},
     "output_type": "execute_result"
    }
   ],
   "source": [
    "df['Attendance to Classes'].unique()"
   ]
  },
  {
   "cell_type": "code",
   "execution_count": 50,
   "id": "f59775b9",
   "metadata": {},
   "outputs": [],
   "source": [
    "df['Attendance to Classes'] = df['Attendance to Classes'].replace(1, 'Always')\n",
    "df['Attendance to Classes'] = df['Attendance to Classes'].replace(2, 'Sometimes')"
   ]
  },
  {
   "cell_type": "code",
   "execution_count": 51,
   "id": "3d9f2264",
   "metadata": {},
   "outputs": [
    {
     "data": {
      "text/plain": [
       "array([1, 2, 3], dtype=int64)"
      ]
     },
     "execution_count": 51,
     "metadata": {},
     "output_type": "execute_result"
    }
   ],
   "source": [
    "df['How do you prepare for exam?'].unique()"
   ]
  },
  {
   "cell_type": "code",
   "execution_count": 52,
   "id": "c99e0261",
   "metadata": {},
   "outputs": [],
   "source": [
    "df['How do you prepare for exam?'] = df['How do you prepare for exam?'].replace(1, 'Alone')\n",
    "df['How do you prepare for exam?'] = df['How do you prepare for exam?'].replace(2, 'With Friends')\n",
    "df['How do you prepare for exam?'] = df['How do you prepare for exam?'].replace(3, 'Not Applicable')"
   ]
  },
  {
   "cell_type": "code",
   "execution_count": 53,
   "id": "58390a41",
   "metadata": {},
   "outputs": [
    {
     "data": {
      "text/plain": [
       "array([1, 2, 3], dtype=int64)"
      ]
     },
     "execution_count": 53,
     "metadata": {},
     "output_type": "execute_result"
    }
   ],
   "source": [
    "df['When do you prepare for exam?'].unique()"
   ]
  },
  {
   "cell_type": "code",
   "execution_count": 54,
   "id": "d30c29e8",
   "metadata": {},
   "outputs": [],
   "source": [
    "df['When do you prepare for exam?'] = df['When do you prepare for exam?'].replace(1, 'Closest Date to the Exam')\n",
    "df['When do you prepare for exam?'] = df['When do you prepare for exam?'].replace(2, 'Regularly During the Semester')\n",
    "df['When do you prepare for exam?'] = df['When do you prepare for exam?'].replace(3, 'Never')"
   ]
  },
  {
   "cell_type": "code",
   "execution_count": 55,
   "id": "aa7cbb40",
   "metadata": {},
   "outputs": [
    {
     "data": {
      "text/plain": [
       "array([3, 2, 1], dtype=int64)"
      ]
     },
     "execution_count": 55,
     "metadata": {},
     "output_type": "execute_result"
    }
   ],
   "source": [
    "df['Taking Notes'].unique()"
   ]
  },
  {
   "cell_type": "code",
   "execution_count": 56,
   "id": "806f3cf1",
   "metadata": {},
   "outputs": [],
   "source": [
    "df['Taking Notes'] = df['Taking Notes'].replace(1, 'Never')\n",
    "df['Taking Notes'] = df['Taking Notes'].replace(2, 'Sometimes')\n",
    "df['Taking Notes'] = df['Taking Notes'].replace(3, 'Always')"
   ]
  },
  {
   "cell_type": "code",
   "execution_count": 57,
   "id": "6f0cfe8a",
   "metadata": {},
   "outputs": [
    {
     "data": {
      "text/plain": [
       "array([2, 3, 1], dtype=int64)"
      ]
     },
     "execution_count": 57,
     "metadata": {},
     "output_type": "execute_result"
    }
   ],
   "source": [
    "df['Listening'].unique()"
   ]
  },
  {
   "cell_type": "code",
   "execution_count": 58,
   "id": "644ef51a",
   "metadata": {},
   "outputs": [],
   "source": [
    "df['Listening'] = df['Listening'].replace(1, 'Never')\n",
    "df['Listening'] = df['Listening'].replace(2, 'Sometimes')\n",
    "df['Listening'] = df['Listening'].replace(3, 'Always')"
   ]
  },
  {
   "cell_type": "code",
   "execution_count": 59,
   "id": "8d0316bf",
   "metadata": {},
   "outputs": [
    {
     "data": {
      "text/plain": [
       "array([1, 3, 2], dtype=int64)"
      ]
     },
     "execution_count": 59,
     "metadata": {},
     "output_type": "execute_result"
    }
   ],
   "source": [
    "df['Improvement due to Discussion'].unique()"
   ]
  },
  {
   "cell_type": "code",
   "execution_count": 60,
   "id": "0e971070",
   "metadata": {},
   "outputs": [],
   "source": [
    "df['Improvement due to Discussion'] = df['Improvement due to Discussion'].replace(1, 'Never')\n",
    "df['Improvement due to Discussion'] = df['Improvement due to Discussion'].replace(2, 'Sometimes')\n",
    "df['Improvement due to Discussion'] = df['Improvement due to Discussion'].replace(3, 'Always')"
   ]
  },
  {
   "cell_type": "code",
   "execution_count": 61,
   "id": "453f9157",
   "metadata": {},
   "outputs": [
    {
     "data": {
      "text/plain": [
       "array([2, 1, 3], dtype=int64)"
      ]
     },
     "execution_count": 61,
     "metadata": {},
     "output_type": "execute_result"
    }
   ],
   "source": [
    "df['Flip-Classroom'].unique()"
   ]
  },
  {
   "cell_type": "code",
   "execution_count": 62,
   "id": "4187ba86",
   "metadata": {},
   "outputs": [],
   "source": [
    "df['Flip-Classroom'] = df['Flip-Classroom'].replace(1, 'Not Useful')\n",
    "df['Flip-Classroom'] = df['Flip-Classroom'].replace(2, 'Useful')\n",
    "df['Flip-Classroom'] = df['Flip-Classroom'].replace(3, 'Not Applicable')"
   ]
  },
  {
   "cell_type": "code",
   "execution_count": 63,
   "id": "a182cc4c",
   "metadata": {},
   "outputs": [
    {
     "data": {
      "text/plain": [
       "array([1, 2, 3, 4, 5], dtype=int64)"
      ]
     },
     "execution_count": 63,
     "metadata": {},
     "output_type": "execute_result"
    }
   ],
   "source": [
    "df['Cumulative GPA Last Semester'].unique()"
   ]
  },
  {
   "cell_type": "code",
   "execution_count": 64,
   "id": "8f6f7d77",
   "metadata": {},
   "outputs": [],
   "source": [
    "df['Cumulative GPA Last Semester'] = df['Cumulative GPA Last Semester'].replace(1, '<2.00')\n",
    "df['Cumulative GPA Last Semester'] = df['Cumulative GPA Last Semester'].replace(2, '2.00-2.49')\n",
    "df['Cumulative GPA Last Semester'] = df['Cumulative GPA Last Semester'].replace(3, '2.50-2.99')\n",
    "df['Cumulative GPA Last Semester'] = df['Cumulative GPA Last Semester'].replace(4, '3.00-3.49')\n",
    "df['Cumulative GPA Last Semester'] = df['Cumulative GPA Last Semester'].replace(5, 'above 3.49')"
   ]
  },
  {
   "cell_type": "code",
   "execution_count": 65,
   "id": "b16d3fae",
   "metadata": {},
   "outputs": [
    {
     "data": {
      "text/plain": [
       "array([1, 3, 2, 4], dtype=int64)"
      ]
     },
     "execution_count": 65,
     "metadata": {},
     "output_type": "execute_result"
    }
   ],
   "source": [
    "df['Expected GPA This Semester'].unique()"
   ]
  },
  {
   "cell_type": "code",
   "execution_count": 66,
   "id": "98a66671",
   "metadata": {},
   "outputs": [],
   "source": [
    "df['Expected GPA This Semester'] = df['Expected GPA This Semester'].replace(1, '<2.00')\n",
    "df['Expected GPA This Semester'] = df['Expected GPA This Semester'].replace(2, '2.00-2.49')\n",
    "df['Expected GPA This Semester'] = df['Expected GPA This Semester'].replace(3, '2.50-2.99')\n",
    "df['Expected GPA This Semester'] = df['Expected GPA This Semester'].replace(4, '3.00-3.49')"
   ]
  },
  {
   "cell_type": "code",
   "execution_count": 67,
   "id": "e5919877",
   "metadata": {},
   "outputs": [
    {
     "data": {
      "text/plain": [
       "array([1, 2, 5, 0, 3, 4, 7, 6], dtype=int64)"
      ]
     },
     "execution_count": 67,
     "metadata": {},
     "output_type": "execute_result"
    }
   ],
   "source": [
    "df['Grade'].unique()"
   ]
  },
  {
   "cell_type": "code",
   "execution_count": 68,
   "id": "49d01b9b",
   "metadata": {},
   "outputs": [],
   "source": [
    "df['Grade'] = df['Grade'].replace(0, 'Fail')\n",
    "df['Grade'] = df['Grade'].replace(1, 'DD')\n",
    "df['Grade'] = df['Grade'].replace(2, 'DC')\n",
    "df['Grade'] = df['Grade'].replace(3, 'CC')\n",
    "df['Grade'] = df['Grade'].replace(4, 'CB')\n",
    "df['Grade'] = df['Grade'].replace(5, 'BB')\n",
    "df['Grade'] = df['Grade'].replace(6, 'BA')\n",
    "df['Grade'] = df['Grade'].replace(7, 'AA')"
   ]
  },
  {
   "cell_type": "code",
   "execution_count": 69,
   "id": "32f33c62",
   "metadata": {},
   "outputs": [],
   "source": [
    "df.to_csv('Scorecard.csv', index = False)"
   ]
  }
 ],
 "metadata": {
  "kernelspec": {
   "display_name": "Python 3 (ipykernel)",
   "language": "python",
   "name": "python3"
  },
  "language_info": {
   "codemirror_mode": {
    "name": "ipython",
    "version": 3
   },
   "file_extension": ".py",
   "mimetype": "text/x-python",
   "name": "python",
   "nbconvert_exporter": "python",
   "pygments_lexer": "ipython3",
   "version": "3.9.7"
  }
 },
 "nbformat": 4,
 "nbformat_minor": 5
}
